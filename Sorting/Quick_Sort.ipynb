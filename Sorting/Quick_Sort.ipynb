{
 "cells": [
  {
   "cell_type": "markdown",
   "id": "115dc31b",
   "metadata": {},
   "source": [
    "# What is Quick Sort?"
   ]
  },
  {
   "cell_type": "markdown",
   "id": "e99b758e",
   "metadata": {},
   "source": [
    "Quicksort is an <b>in-place sorting</b> algorithm.Quicksort is a divide-and-conquer algorithm. It works by selecting a <b>'pivot'</b> element from the array and partitioning the other elements into two sub-arrays, according to whether they are less than or greater than the pivot. \n",
    "\n",
    "For this reason, it is sometimes called <b>partition-exchange sort.</b> The sub-arrays are then sorted recursively. This can be done in-place, requiring small additional amounts of memory to perform the sorting.Quicksort is a comparison sort, meaning that it can sort items of any type for which a \"less-than\" relation is defined. \n",
    "\n",
    "Efficient implementations of Quicksort are not a stable sort, meaning that the relative order of equal sort items is not preserved.\n",
    "\n",
    "There are many different versions of quickSort that pick pivot in different ways. \n",
    "\n",
    "1. Always pick first element as pivot.\n",
    "2. Always pick last element as pivot (implemented below)\n",
    "3. Pick a random element as pivot.\n",
    "4. Pick median as pivot.\n",
    "\n",
    "The key process in quickSort is partition(). Target of partitions is, given an array and an element x of array as pivot, put x at its correct position in sorted array and put all smaller elements (smaller than x) before x, and put all greater elements (greater than x) after x. All this should be done in linear time. \n",
    "\n",
    "\n",
    "For partitions also we have \n",
    "1. Lomuto partition scheme\n",
    "2. Hoare partition scheme\n",
    "\n",
    "<img src=\"images/Quicksort.gif\" width=\"450\" align=\"center\">"
   ]
  },
  {
   "cell_type": "markdown",
   "id": "c556b7b2",
   "metadata": {},
   "source": [
    "# Pseudo Code"
   ]
  },
  {
   "cell_type": "markdown",
   "id": "4ce1b7ed",
   "metadata": {},
   "source": [
    "### 1. Lamuto partition scheme\n",
    "\n",
    "partition(arr[], lo, hi) \n",
    "\n",
    "    pivot = arr[hi]\n",
    "    \n",
    "    i = lo     // place for swapping\n",
    "    \n",
    "    for j := lo to hi – 1 do\n",
    "        \n",
    "        if arr[j] <= pivot then\n",
    "        \n",
    "            swap arr[i] with arr[j]\n",
    "            \n",
    "            i = i + 1\n",
    "            \n",
    "    swap arr[i] with arr[hi]\n",
    "    \n",
    "    return i\n",
    "\n",
    "\n",
    "### 2. Hoare’s Partition Scheme\n",
    "\n",
    "    partition(arr[], lo, hi)\n",
    "\n",
    "       pivot = arr[lo]\n",
    "\n",
    "       i = lo - 1  // Initialize left index\n",
    "\n",
    "       j = hi + 1  // Initialize right index\n",
    "\n",
    "       // Find a value in left side greater\n",
    "       // than pivot\n",
    "\n",
    "       do\n",
    "          i = i + 1\n",
    "\n",
    "       while arr[i] < pivot\n",
    "\n",
    "       // Find a value in right side smaller\n",
    "\n",
    "       // than pivot\n",
    "\n",
    "       do\n",
    "\n",
    "          j--;\n",
    "\n",
    "       while (arr[j] > pivot);\n",
    "\n",
    "       if i >= j then \n",
    "\n",
    "          return j\n",
    "\n",
    "       swap arr[i] with arr[j]\n",
    "       \n",
    " "
   ]
  },
  {
   "cell_type": "markdown",
   "id": "6dc00923",
   "metadata": {},
   "source": [
    "# Lamuto partition scheme implementation  in python"
   ]
  },
  {
   "cell_type": "code",
   "execution_count": 52,
   "id": "6380e3d9",
   "metadata": {},
   "outputs": [
    {
     "name": "stdout",
     "output_type": "stream",
     "text": [
      "initial array -------   [1, 5, 10, 20, 0]\n",
      "[0, 1, 5, 10, 20]\n"
     ]
    }
   ],
   "source": [
    "def partition(arr, low, high):\n",
    "    i = (low-1)         # index of smaller element\n",
    "    #print(\"start i --   \" + str(i))\n",
    "    pivot = arr[high]     # pivot\n",
    "    for j in range(low, high):\n",
    "        #print(\"i ----   \"+str(i))\n",
    "       # print(\"j -----   \"+str(j))\n",
    "        # If current element is smaller than or equal to pivot\n",
    "        if arr[j] <= pivot:\n",
    "            #print(\"  arr[j] \",arr[j])\n",
    "            #print(\"pivot   \" , pivot)\n",
    "            # increment index of smaller element\n",
    "            i = i+1\n",
    "            arr[i], arr[j] = arr[j], arr[i]\n",
    "            #print(\"array ----- \" , arr)\n",
    "    arr[i+1], arr[high] = arr[high], arr[i+1]\n",
    "    return (i+1)\n",
    "\n",
    "def quickSort(arr, low, high):\n",
    "    if len(arr) == 1:\n",
    "        return arr\n",
    "    if low < high:\n",
    "        pi = partition(arr, low, high)\n",
    "        quickSort(arr, low, pi-1)\n",
    "        quickSort(arr, pi+1, high)\n",
    " \n",
    " \n",
    "# Driver code to test above\n",
    "arr = [1,5,10,20,0]\n",
    "print(\"initial array -------  \",arr)\n",
    "quickSort(arr, 0, len(arr)-1)\n",
    "print(arr)"
   ]
  },
  {
   "cell_type": "markdown",
   "id": "507443c0",
   "metadata": {},
   "source": [
    "# Hoare’s Partition Scheme Implementation in python"
   ]
  },
  {
   "cell_type": "code",
   "execution_count": 53,
   "id": "775117e8",
   "metadata": {},
   "outputs": [
    {
     "name": "stdout",
     "output_type": "stream",
     "text": [
      "presorted array :\n",
      "[10, 7, 8, 9, 1, 5]\n",
      "Sorted array:\n",
      "[1, 5, 7, 8, 9, 10]\n"
     ]
    }
   ],
   "source": [
    "def partition(arr, low, high):\n",
    "    pivot = arr[low]\n",
    "    i = low - 1\n",
    "    j = high + 1\n",
    "    while (True):\n",
    "        # Find leftmost element greater than\n",
    "        # or equal to pivot\n",
    "        i += 1\n",
    "        while (arr[i] < pivot):\n",
    "            i += 1 \n",
    "        # Find rightmost element smaller than\n",
    "        # or equal to pivot\n",
    "        j -= 1\n",
    "        while (arr[j] > pivot):\n",
    "            j -= 1\n",
    " \n",
    "        # If two pointers met.\n",
    "        if (i >= j):\n",
    "            return j\n",
    "        arr[i], arr[j] = arr[j], arr[i]\n",
    " \n",
    "def quickSort(arr, low, high):\n",
    "    ''' pi is partitioning index, arr[p] is now\n",
    "    at right place '''\n",
    "    if (low < high):\n",
    "        pi = partition(arr, low, high)\n",
    "        # Separately sort elements before\n",
    "        # partition and after partition\n",
    "        quickSort(arr, low, pi)\n",
    "        quickSort(arr, pi + 1, high)  \n",
    "# Driver code\n",
    "arr = [10, 7, 8, 9, 1, 5]\n",
    "print(\"presorted array :\")\n",
    "print(arr)\n",
    "n = len(arr)\n",
    "quickSort(arr, 0, n - 1)\n",
    "print(\"Sorted array:\")\n",
    "print(arr)"
   ]
  },
  {
   "cell_type": "markdown",
   "id": "60e578ad",
   "metadata": {},
   "source": [
    "# Time and Space Complexity"
   ]
  },
  {
   "cell_type": "markdown",
   "id": "b4b5bed9",
   "metadata": {},
   "source": [
    "* The worst case time complexity of Quick sort is <b>O($N^{2}$).</b>\n",
    "* The average case time complexity of Quick sort is <b>O($Nlog(N)$).</b>\n",
    "* The time complexity of the best case is <b>O(($Nlog(N)$).</b>\n",
    "* The Worst case space complexity is <b>O(N)</b> used by recursive call stack.\n",
    "* The Average case space complexity is <b>O(log(N))</b> used by recursive call stack.which is the depth of the tree."
   ]
  },
  {
   "cell_type": "code",
   "execution_count": null,
   "id": "c73c547b",
   "metadata": {},
   "outputs": [],
   "source": []
  }
 ],
 "metadata": {
  "kernelspec": {
   "display_name": "Python 3",
   "language": "python",
   "name": "python3"
  },
  "language_info": {
   "codemirror_mode": {
    "name": "ipython",
    "version": 3
   },
   "file_extension": ".py",
   "mimetype": "text/x-python",
   "name": "python",
   "nbconvert_exporter": "python",
   "pygments_lexer": "ipython3",
   "version": "3.8.8"
  }
 },
 "nbformat": 4,
 "nbformat_minor": 5
}
