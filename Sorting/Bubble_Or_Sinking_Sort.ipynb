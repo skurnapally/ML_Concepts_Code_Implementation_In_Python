{
 "cells": [
  {
   "cell_type": "markdown",
   "id": "7f3cd929",
   "metadata": {},
   "source": [
    "# What is Bubble Sort?"
   ]
  },
  {
   "cell_type": "markdown",
   "id": "497f13e9",
   "metadata": {},
   "source": [
    "<b>Bubble sort</b>, sometimes referred to as <b>sinking sort</b>, is a simple sorting algorithm that repeatedly steps through the list, compares adjacent elements and swaps them if they are in the wrong order. The pass through the list is repeated until the list is sorted. The algorithm, which is a <b>comparison sort</b>, is named for the way smaller or larger elements <b>\"bubble\"</b> to the top of the list.\n",
    "\n",
    "\n",
    "* It is a <b>Stable Sort</b>.\n",
    "\n",
    "* It is a <b>Inplace Sort</b>."
   ]
  },
  {
   "cell_type": "markdown",
   "id": "10c29b3e",
   "metadata": {},
   "source": [
    "<img src=\"images/Bubble_Sort.gif\" width=\"450\" align=\"center\">"
   ]
  },
  {
   "cell_type": "markdown",
   "id": "4e963f7d",
   "metadata": {},
   "source": [
    "# Bubble Sort Algorithm"
   ]
  },
  {
   "cell_type": "markdown",
   "id": "f7d99020",
   "metadata": {},
   "source": [
    "bubbleSort(array)\n",
    "\n",
    "  for i <= 1 to indexOfLastUnsortedElement-1\n",
    "  \n",
    "    if leftElement > rightElement\n",
    "    \n",
    "      swap leftElement and rightElement\n",
    "      \n",
    "end bubbleSort"
   ]
  },
  {
   "cell_type": "markdown",
   "id": "37f10dba",
   "metadata": {},
   "source": [
    "# Implementation in Python"
   ]
  },
  {
   "cell_type": "code",
   "execution_count": 10,
   "id": "143ffc4b",
   "metadata": {},
   "outputs": [
    {
     "name": "stdout",
     "output_type": "stream",
     "text": [
      "[11, 12, 22, 25, 34, 64, 90]\n"
     ]
    }
   ],
   "source": [
    "# An optimized version of Bubble Sort\n",
    "def bubbleSort(arr):\n",
    "    n = len(arr)  \n",
    "    # Traverse through all array elements\n",
    "    for i in range(n):\n",
    "        swapped = False\n",
    "        # Last i elements are already\n",
    "        #  in place\n",
    "        for j in range(0, n-i-1):\n",
    "            # traverse the array from 0 to\n",
    "            # n-i-1. Swap if the element\n",
    "            # found is greater than the\n",
    "            # next element\n",
    "            if arr[j] > arr[j+1] :\n",
    "                arr[j], arr[j+1] = arr[j+1], arr[j]\n",
    "                swapped = True\n",
    "        # IF no two elements were swapped\n",
    "        # by inner loop, then break\n",
    "        if swapped == False:\n",
    "            break\n",
    "          \n",
    "# Driver code to test above\n",
    "arr = [64, 34, 25, 12, 22, 11, 90]\n",
    "bubbleSort(arr)\n",
    "print(arr)"
   ]
  },
  {
   "cell_type": "markdown",
   "id": "6932cb3f",
   "metadata": {},
   "source": [
    "# Time and Space Complexity"
   ]
  },
  {
   "cell_type": "markdown",
   "id": "7ddbf347",
   "metadata": {},
   "source": [
    "* The worst case time complexity of Bubble sort is <b>O($N^{2}$).</b>\n",
    "* The average case time complexity of Bubble sort is <b>O($N^{2}$).</b>\n",
    "* The time complexity of the best case is <b>O(N).</b>\n",
    "* The worst case Swaps of Bubble sort is <b>O($N^{2}$).</b>\n",
    "* The average case Swaps of Bubble sort is <b>O($N^{2}$).</b>\n",
    "* The best case swaps of Bubble Sort are <b>O(1).</b>\n",
    "* The space complexity is <b>O(1)</b>"
   ]
  }
 ],
 "metadata": {
  "kernelspec": {
   "display_name": "Python 3",
   "language": "python",
   "name": "python3"
  },
  "language_info": {
   "codemirror_mode": {
    "name": "ipython",
    "version": 3
   },
   "file_extension": ".py",
   "mimetype": "text/x-python",
   "name": "python",
   "nbconvert_exporter": "python",
   "pygments_lexer": "ipython3",
   "version": "3.8.8"
  }
 },
 "nbformat": 4,
 "nbformat_minor": 5
}
