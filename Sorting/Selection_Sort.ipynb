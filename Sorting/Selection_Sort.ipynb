{
 "cells": [
  {
   "cell_type": "markdown",
   "id": "a4b76255",
   "metadata": {},
   "source": [
    "# What is Selection Sort?"
   ]
  },
  {
   "cell_type": "markdown",
   "id": "7b96c95a",
   "metadata": {},
   "source": [
    "<b>selection sort</b> is an <b>in-place comparison</b> sorting algorithm. Selection sort is noted for its simplicity and has performance advantages over more complicated algorithms in certain situations, particularly where <b>auxiliary memory (Secondary Storage like HDD or SSD)</b> is limited.\n",
    "\n",
    "The algorithm divides the input list into <b>two</b> parts: a sorted sublist of items which is built up from left to right at the front (left) of the list and a sublist of the remaining unsorted items that occupy the rest of the list. \n",
    "\n",
    "Initially, the sorted sublist is empty and the unsorted sublist is the entire input list. The algorithm proceeds by finding the smallest (or largest, depending on sorting order) element in the unsorted sublist, exchanging (swapping) it with the leftmost unsorted element (putting it in sorted order), and moving the sublist boundaries one element to the right."
   ]
  },
  {
   "cell_type": "markdown",
   "id": "0a3e8b79",
   "metadata": {},
   "source": [
    "<img src=\"images/Selection_Sort.gif\" width=\"50\" align=\"center\">"
   ]
  },
  {
   "cell_type": "markdown",
   "id": "348c14a3",
   "metadata": {},
   "source": [
    "# Algorithm"
   ]
  },
  {
   "cell_type": "markdown",
   "id": "41e88456",
   "metadata": {},
   "source": [
    "Step 1 − Set MIN to location 0\n",
    "\n",
    "Step 2 − Search the minimum element in the list by keeping track of the min element (red color in the above gif keepng track of the min) and blue color shows the traversal in every iteration.\n",
    "\n",
    "Step 3 − Swap with value at location MIN(Yellow color shows the location min and we can see that is increasing with every iteration)\n",
    "\n",
    "Step 4 − Increment MIN to point to next element\n",
    "\n",
    "Step 5 − Repeat until list is sorted"
   ]
  },
  {
   "cell_type": "markdown",
   "id": "f6a764d4",
   "metadata": {},
   "source": [
    "# Flow Chart"
   ]
  },
  {
   "cell_type": "markdown",
   "id": "d039def1",
   "metadata": {},
   "source": [
    "<img src=\"images/Selection-Sort-Flowhchart.png\" width=\"3000\" hight=\"1000\" align=\"center\">"
   ]
  },
  {
   "cell_type": "markdown",
   "id": "26a888d8",
   "metadata": {},
   "source": [
    "# Implementation in Python"
   ]
  },
  {
   "cell_type": "code",
   "execution_count": 6,
   "id": "8bd671ee",
   "metadata": {},
   "outputs": [
    {
     "name": "stdout",
     "output_type": "stream",
     "text": [
      "[11, 12, 22, 25, 64]\n"
     ]
    }
   ],
   "source": [
    "A = [64, 25, 12, 22, 11]\n",
    "\n",
    "def Selection_Sort(A):\n",
    "# Traverse through all array elements\n",
    "    for i in range(len(A)): \n",
    "        # Find the minimum element in remaining unsorted array\n",
    "        min_idx = i\n",
    "        for j in range(i+1, len(A)):\n",
    "            if A[min_idx] > A[j]:\n",
    "                min_idx = j\n",
    "\n",
    "        # Swap the found minimum element with \n",
    "        # the first element        \n",
    "        A[i], A[min_idx] = A[min_idx], A[i]\n",
    "    return A\n",
    "\n",
    "print(Selection_Sort(A))"
   ]
  },
  {
   "cell_type": "markdown",
   "id": "bc143938",
   "metadata": {},
   "source": [
    "# Time and Space Complexity"
   ]
  },
  {
   "cell_type": "markdown",
   "id": "de4fefd4",
   "metadata": {},
   "source": [
    "* The worst case time complexity of Bubble sort is <b>O($N^{2}$).</b>\n",
    "* The average case time complexity of Bubble sort is <b>O($N^{2}$).</b>\n",
    "* The time complexity of the best case is <b>O($N^{2}$).</b>\n",
    "* The worst case Swaps of Bubble sort is <b>O($N$).</b>\n",
    "* The average case Swaps of Bubble sort is <b>O($N$).</b>\n",
    "* The best case swaps of Bubble Sort are <b>O(1).</b>\n",
    "* The space complexity is <b>O(1)</b>"
   ]
  },
  {
   "cell_type": "code",
   "execution_count": null,
   "id": "d393e667",
   "metadata": {},
   "outputs": [],
   "source": []
  }
 ],
 "metadata": {
  "kernelspec": {
   "display_name": "Python 3",
   "language": "python",
   "name": "python3"
  },
  "language_info": {
   "codemirror_mode": {
    "name": "ipython",
    "version": 3
   },
   "file_extension": ".py",
   "mimetype": "text/x-python",
   "name": "python",
   "nbconvert_exporter": "python",
   "pygments_lexer": "ipython3",
   "version": "3.8.8"
  }
 },
 "nbformat": 4,
 "nbformat_minor": 5
}
