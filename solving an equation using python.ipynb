{
 "cells": [
  {
   "cell_type": "markdown",
   "id": "68c3584e",
   "metadata": {},
   "source": [
    "# Solving Equations Using Python\n"
   ]
  },
  {
   "cell_type": "markdown",
   "id": "aa1aeb67",
   "metadata": {},
   "source": [
    "SymPy's solve() function can be used to solve equations and expressions that contain symbolic math variables"
   ]
  },
  {
   "cell_type": "markdown",
   "id": "cc4ef722",
   "metadata": {},
   "source": [
    "# Equations with one solution"
   ]
  },
  {
   "cell_type": "markdown",
   "id": "9f0e3bce",
   "metadata": {},
   "source": [
    "### Want to know more about sympy https://docs.sympy.org/latest/modules/solvers/solvers.html#algebraic-equations\n"
   ]
  },
  {
   "cell_type": "markdown",
   "id": "b36fb001",
   "metadata": {},
   "source": [
    "A simple equation that contains one variable like x−4−2=0 can be solved using the SymPy's solve() function. When only one value is part of the solution, the solution is in the form of a list.\n",
    "\n",
    "The code section below demonstrates SymPy's solve() function when an expression is defined with symbolic math variables."
   ]
  },
  {
   "cell_type": "code",
   "execution_count": 3,
   "id": "ca40b830",
   "metadata": {},
   "outputs": [
    {
     "name": "stdout",
     "output_type": "stream",
     "text": [
      "[6]\n"
     ]
    }
   ],
   "source": [
    "from sympy import symbols, Eq, solve\n",
    "\n",
    "x = symbols('x')\n",
    "expr = x-4-2\n",
    "sol = solve(expr)\n",
    "print(sol)"
   ]
  },
  {
   "cell_type": "markdown",
   "id": "a9fed156",
   "metadata": {},
   "source": [
    "# Equations with two solutions\n",
    "\n",
    "Quadratic equations, like \\begin{equation*}\\left( x \\right)^2 - 5x + 6 = 0\\end{equation*}, have two solutions. SymPy's solve() function can be used to solve an equation with two solutions. When an equation has two solutions, SymPy's solve() function outputs a list. The elements in the list are the two solutions.\n",
    "\n",
    "The code section below shows how an equation with two solutions is solved with SymPy's solve() function"
   ]
  },
  {
   "cell_type": "code",
   "execution_count": 10,
   "id": "01fd8246",
   "metadata": {},
   "outputs": [
    {
     "data": {
      "text/plain": [
       "[2, 3]"
      ]
     },
     "execution_count": 10,
     "metadata": {},
     "output_type": "execute_result"
    }
   ],
   "source": [
    "y = symbols('x')\n",
    "eq1 = Eq(x**2 -5*x + 6,0)\n",
    "sol = solve(eq1)\n",
    "sol"
   ]
  },
  {
   "cell_type": "markdown",
   "id": "c6d7f524",
   "metadata": {},
   "source": [
    "If we specify the keyword argument <b>dict=True</b> to SymPy's solve() function, the output is still a list, but inside the list is a dictionary that shows which variable was solved for."
   ]
  },
  {
   "cell_type": "code",
   "execution_count": 11,
   "id": "afd8975a",
   "metadata": {},
   "outputs": [
    {
     "data": {
      "text/plain": [
       "[{x: 2}, {x: 3}]"
      ]
     },
     "execution_count": 11,
     "metadata": {},
     "output_type": "execute_result"
    }
   ],
   "source": [
    "y = symbols('x')\n",
    "eq1 = Eq(x**2 -5*x + 6,0)\n",
    "sol = solve(eq1, dict=True)\n",
    "sol"
   ]
  },
  {
   "cell_type": "markdown",
   "id": "df2c7ba3",
   "metadata": {},
   "source": [
    "#### Solving multiple equations\n"
   ]
  },
  {
   "cell_type": "code",
   "execution_count": 19,
   "id": "9c0fb41a",
   "metadata": {},
   "outputs": [
    {
     "data": {
      "text/plain": [
       "{x: 2, y: 3}"
      ]
     },
     "execution_count": 19,
     "metadata": {},
     "output_type": "execute_result"
    }
   ],
   "source": [
    "x, y = symbols('x y')\n",
    "eq1 = Eq(2*x - y - 1)\n",
    "eq2 = Eq(x + y - 5)\n",
    "eq3 = Eq(2*x + 2*y - 10)\n",
    "sol = solve((eq1, eq2,eq3),(x, y))\n",
    "sol"
   ]
  },
  {
   "cell_type": "code",
   "execution_count": null,
   "id": "0d08e090",
   "metadata": {},
   "outputs": [],
   "source": []
  }
 ],
 "metadata": {
  "kernelspec": {
   "display_name": "Python 3",
   "language": "python",
   "name": "python3"
  },
  "language_info": {
   "codemirror_mode": {
    "name": "ipython",
    "version": 3
   },
   "file_extension": ".py",
   "mimetype": "text/x-python",
   "name": "python",
   "nbconvert_exporter": "python",
   "pygments_lexer": "ipython3",
   "version": "3.8.8"
  }
 },
 "nbformat": 4,
 "nbformat_minor": 5
}
