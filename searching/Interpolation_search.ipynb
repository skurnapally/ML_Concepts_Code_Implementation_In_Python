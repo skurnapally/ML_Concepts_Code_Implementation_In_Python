{
 "cells": [
  {
   "cell_type": "markdown",
   "id": "8de0e09f",
   "metadata": {},
   "source": [
    "# What is Interpolation Search?"
   ]
  },
  {
   "cell_type": "markdown",
   "id": "fb1e0632",
   "metadata": {},
   "source": [
    "The Interpolation Search is an <b>improvement over Binary Search</b> for instances, where the values in a sorted array are <font color=red><b>uniformly distributed<b></font>.\n",
    "\n",
    "Binary Search always goes to the middle element to check. On the other hand, interpolation search may go to different locations according to the value of the key being searched.\n",
    "\n",
    "For example, if the value of the key is closer to the last element, interpolation search is likely to start search toward the end side."
   ]
  },
  {
   "cell_type": "markdown",
   "id": "524e4a5c",
   "metadata": {},
   "source": [
    "# Formula to find the position "
   ]
  },
  {
   "cell_type": "markdown",
   "id": "963bb498",
   "metadata": {},
   "source": [
    "<font color = blue><b>The idea of formula is to return higher value of pos when element to be searched is closer to arr[hi] and smaller value when closer to arr[lo]</b></font>\n",
    "\n",
    "<font color = red>\\begin{equation*}pos = lo + \\frac{(x-arr[lo])*(hi-lo)}{(arr[hi]-arr[Lo])}\\end{equation*} </font>\n",
    "\n",
    "arr[] ==> Array where elements need to be searched\n",
    "\n",
    "x     ==> Element to be searched\n",
    "\n",
    "lo    ==> Starting index in arr[]\n",
    "\n",
    "hi    ==> Ending index in arr[]"
   ]
  },
  {
   "cell_type": "markdown",
   "id": "c82c94a2",
   "metadata": {},
   "source": [
    "# How did we get this formula?"
   ]
  },
  {
   "cell_type": "markdown",
   "id": "4146fbb0",
   "metadata": {},
   "source": [
    "Let's assume that the elements of the array are linearly distributed. \n",
    "\n",
    "General equation of line : y = m*x + c.\n",
    "\n",
    "y is the value in the array and x is its index.\n",
    "\n",
    "Now putting value of lo,hi and x in the equation\n",
    "\n",
    "\\begin{equation*}arr[hi] = m*hi+c  ----(1)\\end{equation*}\n",
    "\n",
    "\\begin{equation*}arr[lo] = m*lo+c  ----(2)\\end{equation*}\n",
    "\n",
    "\\begin{equation*}x =  m*pos + c    ----(3)\\end{equation*}\n",
    "\n",
    "\\begin{equation*}pos = \\frac{(arr[hi] - arr[lo] )}{(hi - lo)}\\end{equation*}\n",
    "\n",
    "subtracting eqxn (2) from (3)\n",
    "\n",
    "\n",
    "\\begin{equation*}x - arr[lo] = m * (pos - lo)\\end{equation*}\n",
    "\n",
    "\n",
    "\\begin{equation*}pos = lo + \\frac{(x - arr[lo])}{m}\\end{equation*}\n",
    "\n",
    "\n",
    "<font color = green>\\begin{equation*}pos = lo + \\frac{(x-arr[lo])*(hi-lo)}{(arr[hi]-arr[Lo])}\\end{equation*}</font>"
   ]
  },
  {
   "cell_type": "markdown",
   "id": "9dac099a",
   "metadata": {},
   "source": [
    "# Algorithm"
   ]
  },
  {
   "cell_type": "markdown",
   "id": "ef30d833",
   "metadata": {},
   "source": [
    "Rest of the Interpolation algorithm is the same as binary algorthm except the above partition logic. \n",
    "\n",
    "<b>Step1:</b> In a loop, calculate the value of “pos” using the probe position formula.\n",
    "\n",
    "<b>Step2:</b> If it is a match, return the index of the item, and exit. \n",
    "\n",
    "<b>Step3:</b> If the item is less than arr[pos], calculate the probe position of the left sub-array. Otherwise calculate the same in the right sub-array. \n",
    "\n",
    "<b>Step4:</b> Repeat until a match is found or the sub-array reduces to zero.\n",
    "\n"
   ]
  },
  {
   "cell_type": "markdown",
   "id": "2c1f37f4",
   "metadata": {},
   "source": [
    "# Interpolartion search with python"
   ]
  },
  {
   "cell_type": "code",
   "execution_count": 7,
   "id": "6b8acfd6",
   "metadata": {},
   "outputs": [
    {
     "name": "stdout",
     "output_type": "stream",
     "text": [
      "Element found at index 4\n"
     ]
    }
   ],
   "source": [
    "# If x is present in arr[0..n-1], then returns index of it, else returns -1.\n",
    " \n",
    "def interpolationSearch(arr, lo, hi, x): \n",
    "    # Since array is sorted, an element present\n",
    "    # in array must be in range defined by corner\n",
    "    if (lo <= hi and x >= arr[lo] and x <= arr[hi]): \n",
    "        # Probing the position with keeping\n",
    "        # uniform distribution in mind.\n",
    "        pos = lo + ((hi - lo) // (arr[hi] - arr[lo]) *(x - arr[lo])) \n",
    "        # Condition of target found\n",
    "        if arr[pos] == x:\n",
    "            return pos \n",
    "        # If x is larger, x is in right subarray\n",
    "        if arr[pos] < x:\n",
    "            return interpolationSearch(arr, pos+1,hi, x) \n",
    "        # If x is smaller, x is in left subarray\n",
    "        if arr[pos] > x:\n",
    "            return interpolationSearch(arr,lo,pos-1, x)\n",
    "    return -1\n",
    " \n",
    "# Driver code\n",
    "# Array of items in which\n",
    "# search will be conducted\n",
    "arr = [10, 12, 13, 16, 18, 19, 20,21, 22, 23, 24, 33, 35, 42, 47]\n",
    "n = len(arr)\n",
    "# Element to be searched\n",
    "x = 18\n",
    "index = interpolationSearch(arr, 0, n-1, x)\n",
    "if index != -1:\n",
    "    print(\"Element found at index\", index)\n",
    "else:\n",
    "    print(\"Element not found\")\n"
   ]
  },
  {
   "cell_type": "markdown",
   "id": "e2d358a3",
   "metadata": {},
   "source": [
    "# Time & Space Complexity of interpolation Search"
   ]
  },
  {
   "cell_type": "markdown",
   "id": "4f9dab06",
   "metadata": {},
   "source": [
    "* If the data set is <font color= red><b>sorted and uniformly distributed</b></font>, the average case time complexity of Interpolation Search is <b>O($log_{2}$($log_{2}$(N))</b> where N is the total number of elements in the array.\n",
    "\n",
    "* On the other hand, if the data is sorted <font color= red><b>but quite randomized</b></font>, the time complexity of Interpolation Search will be much worse than Binary Search. In fact, it’ll be almost similar to Linear Search, i.e. <b>O(N)</b>.\n",
    "\n",
    "* space complexity is constant, i.e. <b>O(1)</b>."
   ]
  },
  {
   "cell_type": "code",
   "execution_count": null,
   "id": "d6d91d8e",
   "metadata": {},
   "outputs": [],
   "source": []
  }
 ],
 "metadata": {
  "kernelspec": {
   "display_name": "Python 3",
   "language": "python",
   "name": "python3"
  },
  "language_info": {
   "codemirror_mode": {
    "name": "ipython",
    "version": 3
   },
   "file_extension": ".py",
   "mimetype": "text/x-python",
   "name": "python",
   "nbconvert_exporter": "python",
   "pygments_lexer": "ipython3",
   "version": "3.8.8"
  }
 },
 "nbformat": 4,
 "nbformat_minor": 5
}
