{
 "cells": [
  {
   "cell_type": "markdown",
   "id": "9c8554ab",
   "metadata": {},
   "source": [
    "# What is Binary Search?\n",
    "\n",
    "Binary search is an efficient algorithm for finding an item from a <b>sorted</b> list of items. It works by repeatedly dividing in half the portion of the list that could contain the item until you have narrowed down the possible locations to just one."
   ]
  },
  {
   "cell_type": "markdown",
   "id": "f58b4e72",
   "metadata": {},
   "source": [
    "# How Does it Work?\n",
    "\n",
    "Let us understand the step-wise implementation of this algorithm.\n",
    "\n",
    "1. Sort the list or array you have in an ascending order.\n",
    "2. The starting element is called ‘L’ and the final element is called ‘R’. Using these values we try to narrow down the middle element by using the formula (L+R)//2. This operation basically performs a floor function to achieve the desired middle element. An alternate approach is to use the ceil function, but lets cover this method using floor function.\n",
    "3. The next step is to check if the value of the middle element is equivalent to the desired value. If yes, then the search is successful and can be terminated.\n",
    "4. If the desired value is lesser than the middle element, all the values from the middle element to the ‘R’ value are eliminated. And the repetition of step 2 and 3 takes place.\n",
    "5. If the desired value is greater than the middle element, all the values from the middle element to the ‘L’ value are eliminated. And the repetition of step 2 and 3 takes place.\n",
    "\n",
    "Below you can see the comparision of linear and binary search"
   ]
  },
  {
   "cell_type": "markdown",
   "id": "61b8f20e",
   "metadata": {},
   "source": [
    "<img src=\"images/binary_search.gif\" width=\"450\" align=\"center\">"
   ]
  },
  {
   "cell_type": "markdown",
   "id": "a3c2ad3b",
   "metadata": {},
   "source": [
    "# Binary search with Iteration"
   ]
  },
  {
   "cell_type": "code",
   "execution_count": 11,
   "id": "c2389f78",
   "metadata": {},
   "outputs": [
    {
     "name": "stdout",
     "output_type": "stream",
     "text": [
      "Element is present at index 0\n"
     ]
    }
   ],
   "source": [
    "# Returns index of x in arr if present, else -1\n",
    "def binary_search(arr, x):\n",
    "    left = 0\n",
    "    right = len(arr) - 1\n",
    "    mid = 0\n",
    "    while left <= right:\n",
    "        mid = (right + left) // 2\n",
    "        # If x is greater, ignore left half\n",
    "        if arr[mid] < x:\n",
    "            left = mid + 1\n",
    "        # If x is smaller, ignore right half\n",
    "        elif arr[mid] > x:\n",
    "            right = mid - 1\n",
    "        # means x is present at mid\n",
    "        else:\n",
    "            return mid\n",
    "    # If we reach here, then the element was not present\n",
    "    return -1\n",
    "# Test array\n",
    "arr = [2, 3, 4, 10, 40 ]\n",
    "x = 2\n",
    "# Function call\n",
    "result = binary_search(arr, x)\n",
    "if result != -1:\n",
    "    print(\"Element is present at index\", str(result))\n",
    "else:\n",
    "    print(\"Element is not present in array\")"
   ]
  },
  {
   "cell_type": "markdown",
   "id": "905c1607",
   "metadata": {},
   "source": [
    "# Binary search with Recursion"
   ]
  },
  {
   "cell_type": "code",
   "execution_count": 17,
   "id": "a5109294",
   "metadata": {},
   "outputs": [
    {
     "name": "stdout",
     "output_type": "stream",
     "text": [
      "Element is present at index 4\n"
     ]
    }
   ],
   "source": [
    "# Returns index of x in arr if present, else -1\n",
    "def binary_search(arr, left, right, x):\n",
    "    # Check base case\n",
    "    if right >= left: \n",
    "        mid = (right + left) // 2\n",
    "        # If element is present at the middle itself\n",
    "        if arr[mid] == x:\n",
    "            return mid \n",
    "        # If element is smaller than mid, then it can only\n",
    "        # be present in left subarray\n",
    "        elif arr[mid] > x:\n",
    "            return binary_search(arr, left, mid - 1, x) \n",
    "        # Else the element can only be present in right subarray\n",
    "        else:\n",
    "            return binary_search(arr, mid + 1, right, x) \n",
    "    else:\n",
    "        # Element is not present in the array\n",
    "        return -1\n",
    " \n",
    "# Test array\n",
    "arr = [ 2, 3, 4, 10, 40 ]\n",
    "x = 40\n",
    "# Function call\n",
    "result = binary_search(arr, 0, len(arr)-1, x)\n",
    "if result != -1:\n",
    "    print(\"Element is present at index\", str(result))\n",
    "else:\n",
    "    print(\"Element is not present in array\")"
   ]
  },
  {
   "cell_type": "markdown",
   "id": "676408db",
   "metadata": {},
   "source": [
    "# Time & Space Complexity of Binary Search\n",
    "\n",
    "* Best Case Time Complexity of Binary Search: O(1)\n",
    "* Average Case Time Complexity of Binary Search: O(log N)\n",
    "* Worst Case Time Complexity of Binary Search: O(log N)\n",
    "* Space Complexity of Binary Search: O(1)\n",
    "* Number of comparisons in Best Case: 1\n",
    "* Number of comparisons in Worst Case: log N"
   ]
  },
  {
   "cell_type": "code",
   "execution_count": null,
   "id": "b31a457e",
   "metadata": {},
   "outputs": [],
   "source": []
  }
 ],
 "metadata": {
  "kernelspec": {
   "display_name": "Python 3",
   "language": "python",
   "name": "python3"
  },
  "language_info": {
   "codemirror_mode": {
    "name": "ipython",
    "version": 3
   },
   "file_extension": ".py",
   "mimetype": "text/x-python",
   "name": "python",
   "nbconvert_exporter": "python",
   "pygments_lexer": "ipython3",
   "version": "3.8.8"
  }
 },
 "nbformat": 4,
 "nbformat_minor": 5
}
