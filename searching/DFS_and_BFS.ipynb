{
 "cells": [
  {
   "cell_type": "markdown",
   "id": "31ad6e6b",
   "metadata": {},
   "source": [
    "# Understanding DFS and BFS "
   ]
  },
  {
   "cell_type": "markdown",
   "id": "c3f4f6b2",
   "metadata": {},
   "source": [
    "<b>Depth-first search (DFS)</b> is an algorithm for traversing or searching <b>tree or graph data structures</b>. The algorithm starts at the root node (selecting some arbitrary node as the root node in the case of a graph) and explores as far as possible along each branch before backtracking.\n",
    "\n",
    "<img src=\"images/dfs.gif\" width=\"450\" align=\"center\">\n",
    "\n",
    "<b>Breadth-first search (BFS)</b> is an algorithm for searching a tree data structure for a node that satisfies a given property. It starts at the tree root and explores all nodes at the present depth prior to moving on to the nodes at the next depth level. Extra memory, usually a queue, is needed to keep track of the child nodes that were encountered but not yet explored.\n",
    "\n",
    "<img src=\"images/bfs.gif\" width=\"450\" align=\"center\">\n",
    "\n",
    "For example, in a chess endgame a chess engine may build the game tree from the current position by applying all possible moves, and use breadth-first search to find a win position for white. Implicit trees (such as game trees or other problem-solving trees) may be of infinite size; breadth-first search is guaranteed to find a solution node[1] if one exists.\n",
    "\n",
    "depth-first search, which explores the node branch as far as possible before backtracking and expanding other nodes,[2] may get lost in an infinite branch and never make it to the solution node. Iterative deepening depth-first search avoids the latter drawback at the price of exploring the tree's top parts over and over again. On the other hand, both depth-first algorithms get along without extra memory.\n"
   ]
  },
  {
   "cell_type": "code",
   "execution_count": null,
   "id": "1bcd32fb",
   "metadata": {},
   "outputs": [],
   "source": []
  }
 ],
 "metadata": {
  "kernelspec": {
   "display_name": "Python 3",
   "language": "python",
   "name": "python3"
  },
  "language_info": {
   "codemirror_mode": {
    "name": "ipython",
    "version": 3
   },
   "file_extension": ".py",
   "mimetype": "text/x-python",
   "name": "python",
   "nbconvert_exporter": "python",
   "pygments_lexer": "ipython3",
   "version": "3.8.8"
  }
 },
 "nbformat": 4,
 "nbformat_minor": 5
}
