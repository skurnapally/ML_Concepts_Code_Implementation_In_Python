{
 "cells": [
  {
   "cell_type": "markdown",
   "id": "f9ca2b42",
   "metadata": {},
   "source": [
    "# What is Exponential Search?"
   ]
  },
  {
   "cell_type": "markdown",
   "id": "24f1fcf7",
   "metadata": {},
   "source": [
    "* Exponential search, also known as <b>doubling search or finger search</b>, is an algorithm created for searching elements in <b>huge sized arrays</b>. \n",
    "\n",
    "* It is a two-step process. First, the algorithm tries to find the range (L, R) in which the target element is present and then uses <b>binary search</b> inside this range to find the target’s exact location.\n",
    "\n",
    "* It is named exponential search because it finds the range holding element by searching for the first exponent k for which element at index <b>pow(2,k)</b> is greater than the target. \n",
    "\n",
    "* Although its name is exponential search, the time complexity of this algorithm is logarithmic. It is very useful when arrays are of infinite size and converges to a solution much faster than binary search."
   ]
  },
  {
   "cell_type": "markdown",
   "id": "345aba6d",
   "metadata": {},
   "source": [
    "# How Does it Work?"
   ]
  },
  {
   "cell_type": "markdown",
   "id": "7830f80f",
   "metadata": {},
   "source": [
    "Let us assume that we have an sorted array A[] containing <b>n</b> elements, and we want to find an element <b>X</b>.\n",
    "\n",
    "1. Check if the first element itself is the target element <b>i.e. A[0] == X.</b>\n",
    "    \n",
    "2. Initialize i as 1.\n",
    "\n",
    "3. While <b>i < n</b> and <b>A[i] <= X</b> do the following:\n",
    "       a. Increment i in powers of 2 i.e. i = i*2.\n",
    "    \n",
    "4. Apply binary search on the range i/2 to min(i,n-1).\n",
    "    \n",
    "### Example\n",
    "    \n",
    "Suppose we have the array: (1, 2, 3, 4, 5, 6, 7, 8, 9, 10, 11), and we want to find X = 10.\n",
    "1. check array[0] = 10\n",
    "    \n",
    "2. Initialize i as 1\n",
    "    \n",
    "3. A[1] = 2 < 10 so increment i to 2.\n",
    "                \n",
    "4. A[2] = 3 < 10 so increment i to 4.\n",
    "5. A[4] = 5 < 10 so increment i to 8.\n",
    "6. A[8] = 9 < 10 so increment i to 16.\n",
    "7. i = 16 > n Hence call binary search on the range i/2 i.e. 8 to min(i,n-1) i.e. min(16,10) =10\n",
    "8. Initialize lo as i/2 = 8 and hi as min(i,n-1) = 10.\n",
    "9. calculate mid as 9.\n",
    "10. 10 == 10 i.e. A[9] == X ,hence return 9."
   ]
  },
  {
   "cell_type": "markdown",
   "id": "2833c33a",
   "metadata": {},
   "source": [
    "# Exonential search with python"
   ]
  },
  {
   "cell_type": "code",
   "execution_count": 2,
   "id": "1d69387c",
   "metadata": {},
   "outputs": [
    {
     "name": "stdout",
     "output_type": "stream",
     "text": [
      "Element is present at index 3\n"
     ]
    }
   ],
   "source": [
    "# A recursive binary search function returns\n",
    "# location  of x in given array arr[l..r] is\n",
    "# present, otherwise -1\n",
    "def binarySearch( arr, l, r, x):\n",
    "    if r >= l:\n",
    "        mid = l + ( r-l ) // 2         \n",
    "        # If the element is present at\n",
    "        # the middle itself\n",
    "        if arr[mid] == x:\n",
    "            return mid         \n",
    "        # If the element is smaller than mid,\n",
    "        # then it can only be present in the\n",
    "        # left subarray\n",
    "        if arr[mid] > x:\n",
    "            return binarySearch(arr,l,mid - 1, x)         \n",
    "        # Else he element can only be\n",
    "        # present in the right\n",
    "        return binarySearch(arr, mid + 1, r, x)         \n",
    "    # We reach here if the element is not present\n",
    "    return -1\n",
    " \n",
    "# Returns the position of first\n",
    "# occurrence of x in array\n",
    "def exponentialSearch(arr, n, x):\n",
    "    # IF x is present at first\n",
    "    # location itself\n",
    "    if arr[0] == x:\n",
    "        return 0         \n",
    "    # Find range for binary search\n",
    "    # j by repeated doubling\n",
    "    i = 1\n",
    "    while i < n and arr[i] <= x:\n",
    "        i = i * 2     \n",
    "    # Call binary search for the found range\n",
    "    return binarySearch( arr, i // 2,min(i, n-1), x)\n",
    "      \n",
    "# Driver Code\n",
    "arr = [2, 3, 4, 10, 40]\n",
    "n = len(arr)\n",
    "x = 10\n",
    "result = exponentialSearch(arr, n, x)\n",
    "if result == -1:\n",
    "    print (\"Element not found in the array\")\n",
    "else:\n",
    "    print (\"Element is present at index %d\" %(result))\n",
    " \n",
    "# This code is contributed by Harshit Agrawal"
   ]
  },
  {
   "cell_type": "markdown",
   "id": "fc684235",
   "metadata": {},
   "source": [
    "# Time & Space Complexity of exponential Search"
   ]
  },
  {
   "cell_type": "markdown",
   "id": "f94bbbf8",
   "metadata": {},
   "source": [
    "* Best Case Time Complexity of Binary Search: O(1)\n",
    "* Average Case Time Complexity of Binary Search: O(log N)\n",
    "* Worst Case Time Complexity of Binary Search: O(log N)\n",
    "* Space Complexity of Binary Search: O(1)\n",
    "\n",
    "<b>Note:</b> Exponential search even outperforms binary search when the element is near the beginning of the array. "
   ]
  },
  {
   "cell_type": "code",
   "execution_count": null,
   "id": "9ca0bdf9",
   "metadata": {},
   "outputs": [],
   "source": []
  }
 ],
 "metadata": {
  "kernelspec": {
   "display_name": "Python 3",
   "language": "python",
   "name": "python3"
  },
  "language_info": {
   "codemirror_mode": {
    "name": "ipython",
    "version": 3
   },
   "file_extension": ".py",
   "mimetype": "text/x-python",
   "name": "python",
   "nbconvert_exporter": "python",
   "pygments_lexer": "ipython3",
   "version": "3.8.8"
  }
 },
 "nbformat": 4,
 "nbformat_minor": 5
}
