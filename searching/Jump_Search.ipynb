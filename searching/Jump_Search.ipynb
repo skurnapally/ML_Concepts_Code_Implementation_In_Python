{
 "cells": [
  {
   "cell_type": "markdown",
   "id": "1f91ef61",
   "metadata": {},
   "source": [
    "# What is Jump Search?\n",
    "\n",
    "\n",
    "Jump Search is a searching algorithm for <b>sorted arrays</b>. The basic idea is to check fewer elements (than linear search) by jumping ahead by fixed steps or skipping some elements in place of searching all elements.\n",
    "\n",
    "For example, suppose we have an array arr[] of size <b>n</b> and block (to be jumped) size <b>m</b>. Then we search at the indexes arr[0], arr[m], arr[2m]…..arr[km] and so on. Once we find the interval <b>(arr[km] < x < arr[(k+1)m])</b>, we perform a <b>linear search</b> operation from the index <b>km</b> to find the element <b>x</b>."
   ]
  },
  {
   "cell_type": "markdown",
   "id": "bd7e1b76",
   "metadata": {},
   "source": [
    "# How Does it Work?\n",
    "\n",
    "Lets consider a sorted array A[] of size n, with indexing ranging between 0 and n-1, and element x that needs to be searched in the array A[].\n",
    "\n",
    "For implementing this algorithm, a block of size m is also required, that can be skipped or jumped in every iteration. Thus, the algorithm works as follows:\n",
    "\n",
    "Iteration 1: if (x==A[0]), then success, else, if (x > A[0]), then jump to the next block.\n",
    "\n",
    "Iteration 2: if (x==A[m]), then success, else, if (x > A[m]), then jump to the next block.\n",
    "\n",
    "Iteration 3: if (x==A[2m]), then success, else, if (x > A[2m]), then jump to the next block.\n",
    "\n",
    "At any point in time, if (x < A[km]), then a linear search is performed from index A[(k-1)m] to A[km]"
   ]
  },
  {
   "cell_type": "markdown",
   "id": "c03288a3",
   "metadata": {},
   "source": [
    "# Optimal Size of m (Block size to be skipped)\n",
    "\n",
    "The worst-case scenario requires:\n",
    "\n",
    "<b>n/m</b> jumps, and <b>(m-1)</b> comparisons (in case of linear search if x < A[km])\n",
    "\n",
    "Hence, the total number of comparisons will be\n",
    "\\begin{equation*}\\frac{n}{m}+(m-1) = 0\\end{equation*}(n/m+(m-1)). \n",
    "This expression has to be minimum, so that we get the smallest value of m (block size).\n",
    "\n",
    "On differentiating this expression with respect to m and equating it with 0, we get:\n",
    "\n",
    "\n",
    "\\begin{equation*}\\frac{-n}{(m)^{2}}+ 1 = 0\\end{equation*}\n",
    "\n",
    "\\begin{equation*}\\frac{n}{(m)^{2}} = 1\\end{equation*}\n",
    "\n",
    "<font color='red'><b>\\begin{equation*}m = sqrt(n)\\end{equation*}</b></font>\n",
    "\n",
    "Hence, the optimal jump size is <b>√n</b>, where n is the size of the array to be searched or the total number of elements to be searched."
   ]
  },
  {
   "cell_type": "markdown",
   "id": "0eab96e9",
   "metadata": {},
   "source": [
    "<img src=\"images/jump_search.gif\" width=\"450\" align=\"center\">"
   ]
  },
  {
   "cell_type": "markdown",
   "id": "50e3187c",
   "metadata": {},
   "source": [
    "# Python3 code to implement Jump Search"
   ]
  },
  {
   "cell_type": "code",
   "execution_count": 5,
   "id": "20fd15da",
   "metadata": {},
   "outputs": [
    {
     "name": "stdout",
     "output_type": "stream",
     "text": [
      "Number 557 is at index -1\n"
     ]
    }
   ],
   "source": [
    "import math\n",
    "def jumpSearch( arr , x):     \n",
    "    # Finding block size to be jumped\n",
    "    n=len(arr)\n",
    "    step = math.sqrt(n)     \n",
    "    # Finding the block where element is\n",
    "    # present (if it is present)\n",
    "    prev = 0\n",
    "    while arr[int(min(step, n)-1)] < x:\n",
    "        prev = step\n",
    "        step += math.sqrt(n)\n",
    "        if prev >= n:\n",
    "            return -1     \n",
    "    # Doing a linear search for x in\n",
    "    # block beginning with prev.\n",
    "    while arr[int(prev)] < x:\n",
    "        prev += 1       \n",
    "        # If we reached next block or end\n",
    "        # of array, element is not present.\n",
    "        if prev == min(step, n):\n",
    "            return -1   \n",
    "    # If element is found\n",
    "    if arr[int(prev)] == x:\n",
    "        return prev    \n",
    "    return -1\n",
    "# Driver code to test function\n",
    "arr = [ 0, 1, 1, 2, 3, 5, 8, 13, 21,34, 55, 89, 144, 233, 377, 610 ]\n",
    "x = 55\n",
    "# Find the index of 'x' using Jump Search\n",
    "index = jumpSearch(arr, x)\n",
    "# Print the index where 'x' is located\n",
    "print(\"Number\" , x, \"is at index\" ,\"%.0f\"%index)"
   ]
  },
  {
   "cell_type": "markdown",
   "id": "6783c21f",
   "metadata": {},
   "source": [
    "# Time & Space Complexity of Binary Search"
   ]
  },
  {
   "cell_type": "markdown",
   "id": "3d17ac6b",
   "metadata": {},
   "source": [
    "* The optimal size of a block to be jumped is <b>(√ n)</b>. This makes the time complexity of Jump Search <b>O(√ n)</b>.\n",
    "* The time complexity of Jump Search is between <b>Linear Search ( ( O(n) ) and Binary Search ( O (Log n) )</b>.\n",
    "* The space complexity of this algorithm is <b>O(1)</b> since it does not requireany other data structure for its implementation.\n",
    "* It is also called <b>block search</b> algorithm"
   ]
  },
  {
   "cell_type": "code",
   "execution_count": null,
   "id": "36c14da0",
   "metadata": {},
   "outputs": [],
   "source": []
  }
 ],
 "metadata": {
  "kernelspec": {
   "display_name": "Python 3",
   "language": "python",
   "name": "python3"
  },
  "language_info": {
   "codemirror_mode": {
    "name": "ipython",
    "version": 3
   },
   "file_extension": ".py",
   "mimetype": "text/x-python",
   "name": "python",
   "nbconvert_exporter": "python",
   "pygments_lexer": "ipython3",
   "version": "3.8.8"
  }
 },
 "nbformat": 4,
 "nbformat_minor": 5
}
