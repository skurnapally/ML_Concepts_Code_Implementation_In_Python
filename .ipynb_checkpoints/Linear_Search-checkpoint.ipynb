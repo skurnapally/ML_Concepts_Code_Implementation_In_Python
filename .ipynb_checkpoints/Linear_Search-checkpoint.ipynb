{
 "cells": [
  {
   "cell_type": "markdown",
   "id": "170e7edd",
   "metadata": {},
   "source": [
    "\n"
   ]
  },
  {
   "cell_type": "markdown",
   "id": "aca12e9a",
   "metadata": {},
   "source": [
    "# <span style=\"color:blue\">What is Linear Search?</span>\n",
    "\n",
    "<font size=\"3\"><span style=\"color:blck\">Linear Search is the most intuitive searching method available. No high-level operations are happening here, it is just iterating through each element once, starting from the leftmost element. It looks at every element once without jumping.\n",
    "It is similar to searching for a specific page in a book, you start by the first page and move one page at a time until you reach the page that you are searching for.</span></font>"
   ]
  },
  {
   "cell_type": "markdown",
   "id": "a0054316",
   "metadata": {},
   "source": [
    "# <span style=\"color:blue\">How Does it Work?</span>\n",
    "\n",
    "<font size=\"3\">These are the steps done in Linear Search:\n",
    "1. Start from the leftmost element and compare it to the element that we are searching for.\n",
    "2. If it is a match, stop and return the location/index of the element.\n",
    "3. Move to the next element.\n",
    "4. Repeat steps 1, 2, and 3 until reaching the last element.\n",
    "5. If there is no match in the array, return -1.</font>"
   ]
  },
  {
   "cell_type": "markdown",
   "id": "fe89ff16",
   "metadata": {},
   "source": [
    "<img src=\"images/linear_search.gif\" width=\"450\" align=\"center\">"
   ]
  },
  {
   "cell_type": "markdown",
   "id": "9817f66d",
   "metadata": {},
   "source": [
    "# <span style=\"color:blue\">Linear Search Pseudo Code</span>"
   ]
  },
  {
   "cell_type": "raw",
   "id": "de48b0c7",
   "metadata": {},
   "source": [
    "ALGORITHM: LINEAR_SEARCH (ARR, N, KEY, LOC)\n",
    "[ARR is an array of N elements, KEY is the desired element, LOC is the location of the KEY]\n",
    "1. Set I = 0\n",
    "2. Repeat while I < N and ARR[I] != KEY\n",
    "3.     Set I = I + 1\n",
    "   [End of loop]\n",
    "4. If I < N then set LOC = I\n",
    "   Else set LOC = -1\n",
    "5. Return"
   ]
  },
  {
   "cell_type": "markdown",
   "id": "7966b255",
   "metadata": {},
   "source": [
    "# <span style=\"color:blue\">Implementation</span >"
   ]
  },
  {
   "cell_type": "code",
   "execution_count": 1,
   "id": "ed55f803",
   "metadata": {},
   "outputs": [
    {
     "name": "stdout",
     "output_type": "stream",
     "text": [
      "0\n",
      "2\n",
      "-1\n"
     ]
    }
   ],
   "source": [
    "def Linear_Search(arr, n, key):\n",
    "    for loc in range(n):\n",
    "        if arr[loc] == key:\n",
    "            return loc\n",
    "    return -1\n",
    "\n",
    "arr = [1,2,3,4,8,238,5]\n",
    "print(Linear_Search(arr, 7, 1)) #return 0\n",
    "print(Linear_Search(arr, 7, 3)) #return 2\n",
    "print(Linear_Search(arr, 7, 2345)) #return -1"
   ]
  },
  {
   "cell_type": "markdown",
   "id": "a4159410",
   "metadata": {},
   "source": [
    "# <span style=\"color:blue\">Time & Space Complexity of Linear Search</span >\n",
    "\n",
    "\n",
    "Best Case Time Complexity of Linear Search: O(1)\n",
    "\n",
    "Average Case Time Complexity of Linear Search: O(N)\n",
    "\n",
    "Worst Case Time Complexity of Linear Search: O(N)\n",
    "\n",
    "Space Complexity of Linear Search: O(1)\n",
    "\n",
    "Number of comparisons in Best Case: 1\n",
    "\n",
    "Number of comparisons in Average Case: N/2 + N/(N+1)\n",
    "\n",
    "Number of comparisons in Worst Case: N"
   ]
  },
  {
   "cell_type": "code",
   "execution_count": null,
   "id": "2cea7dd2",
   "metadata": {},
   "outputs": [],
   "source": []
  }
 ],
 "metadata": {
  "kernelspec": {
   "display_name": "Python 3",
   "language": "python",
   "name": "python3"
  },
  "language_info": {
   "codemirror_mode": {
    "name": "ipython",
    "version": 3
   },
   "file_extension": ".py",
   "mimetype": "text/x-python",
   "name": "python",
   "nbconvert_exporter": "python",
   "pygments_lexer": "ipython3",
   "version": "3.8.8"
  }
 },
 "nbformat": 4,
 "nbformat_minor": 5
}
